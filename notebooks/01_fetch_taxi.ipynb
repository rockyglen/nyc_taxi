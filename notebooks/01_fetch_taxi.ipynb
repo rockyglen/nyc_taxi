{
 "cells": [
  {
   "cell_type": "code",
   "execution_count": 2,
   "metadata": {},
   "outputs": [],
   "source": [
    "import pandas as pd\n",
    "import requests\n",
    "from pathlib import Path\n",
    "\n",
    "def fetch_raw_data(year:int,month:int)-> str:\n",
    "    url=f\"https://d37ci6vzurychx.cloudfront.net/trip-data/yellow_tripdata_{year}-{month:02}.parquet\"\n",
    "    response=requests.get(url)\n",
    "\n",
    "    if response.status_code==200:\n",
    "        path=Path(\"..\")/\"data\"/\"raw\"/f\"rides_{year}_{month:02}.parquet\"\n",
    "        path.parent.mkdir(parents=True,exist_ok=True)\n",
    "        path.write_bytes(response.content)\n",
    "        print(f\"Data fetched from {url} and saved to {path}\")\n",
    "        return str(path)\n",
    "    else:\n",
    "        raise Exception(f\"Failed to fetch data from {url}\")\n",
    "#https://d37ci6vzurychx.cloudfront.net/trip-data/yellow_tripdata_2022-01.parquet\n",
    "   "
   ]
  },
  {
   "cell_type": "code",
   "execution_count": 3,
   "metadata": {},
   "outputs": [
    {
     "name": "stdout",
     "output_type": "stream",
     "text": [
      "Data fetched from https://d37ci6vzurychx.cloudfront.net/trip-data/yellow_tripdata_2023-01.parquet and saved to ..\\data\\raw\\rides_2023_01.parquet\n"
     ]
    },
    {
     "data": {
      "text/plain": [
       "'..\\\\data\\\\raw\\\\rides_2023_01.parquet'"
      ]
     },
     "execution_count": 3,
     "metadata": {},
     "output_type": "execute_result"
    }
   ],
   "source": [
    "fetch_raw_data(2023,1)"
   ]
  },
  {
   "cell_type": "code",
   "execution_count": null,
   "metadata": {},
   "outputs": [],
   "source": []
  }
 ],
 "metadata": {
  "kernelspec": {
   "display_name": "taxi_venv",
   "language": "python",
   "name": "python3"
  },
  "language_info": {
   "codemirror_mode": {
    "name": "ipython",
    "version": 3
   },
   "file_extension": ".py",
   "mimetype": "text/x-python",
   "name": "python",
   "nbconvert_exporter": "python",
   "pygments_lexer": "ipython3",
   "version": "3.11.9"
  }
 },
 "nbformat": 4,
 "nbformat_minor": 2
}
