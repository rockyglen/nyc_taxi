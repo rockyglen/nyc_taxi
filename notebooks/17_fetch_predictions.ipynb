{
 "cells": [
  {
   "cell_type": "code",
   "execution_count": 1,
   "id": "1555e775-4045-409a-a2cd-b22934b5fe3b",
   "metadata": {},
   "outputs": [],
   "source": [
    "# \n"
   ]
  },
  {
   "cell_type": "code",
   "execution_count": 2,
   "id": "15e2d67e-a5c7-453c-84e8-a210c608e9f0",
   "metadata": {},
   "outputs": [],
   "source": [
    "import sys\n",
    "import os\n",
    "\n",
    "# Add the parent directory to the Python path\n",
    "sys.path.append(os.path.abspath(os.path.join(os.getcwd(), \"..\")))\n",
    "import src.config as config"
   ]
  },
  {
   "cell_type": "code",
   "execution_count": 3,
   "id": "05248d6f-2194-48dd-a582-77cbda1ad16c",
   "metadata": {},
   "outputs": [
    {
     "name": "stdout",
     "output_type": "stream",
     "text": [
      "Current UTC hour (ceiled): 2025-03-05 20:00:00+00:00\n"
     ]
    }
   ],
   "source": [
    "import src.config as config\n",
    "from src.inference import (\n",
    "    get_feature_store\n",
    ")\n",
    "\n",
    "from datetime import datetime, timezone, timedelta\n",
    "\n",
    "def get_current_utc_hour_ceiled():\n",
    "    \"\"\"Get current UTC time ceiled to the next hour\"\"\"\n",
    "    current = datetime.now(timezone.utc)\n",
    "    if current.minute > 0 or current.second > 0:\n",
    "        # Ceil to next hour\n",
    "        current = current + timedelta(hours=1)\n",
    "\n",
    "    # Reset minutes, seconds, and microseconds\n",
    "    current = current.replace(minute=0, second=0, microsecond=0)\n",
    "    return current\n",
    "\n",
    "# Usage\n",
    "current_hour = get_current_utc_hour_ceiled()\n",
    "print(f\"Current UTC hour (ceiled): {current_hour}\")"
   ]
  },
  {
   "cell_type": "code",
   "execution_count": 4,
   "id": "5c5559a0-89e2-458d-9bbc-b1ec103659f6",
   "metadata": {},
   "outputs": [],
   "source": [
    "def fetch_predictions():\n",
    "    current_date = pd.Timestamp.now(tz='Etc/UTC').ceil('h')\n",
    "\n",
    "    fs = get_feature_store()\n",
    "    fg = fs.get_feature_group(\n",
    "        name=config.FEATURE_GROUP_MODEL_PREDICTION,\n",
    "        version=1\n",
    "    )\n",
    "\n",
    "    query = fg.select_all()\n",
    "    query = query.filter(fg.pickup_hour == current_hour)\n",
    "\n",
    "    return query.read()"
   ]
  },
  {
   "cell_type": "code",
   "execution_count": 5,
   "id": "53a3af64-b773-43a6-bb10-c9e209cc6cb0",
   "metadata": {},
   "outputs": [
    {
     "name": "stdout",
     "output_type": "stream",
     "text": [
      "2025-03-05 14:02:23,696 INFO: Initializing external client\n",
      "2025-03-05 14:02:23,701 INFO: Base URL: https://c.app.hopsworks.ai:443\n",
      "2025-03-05 14:02:24,846 INFO: Python Engine initialized.\n",
      "\n",
      "Logged in to project, explore it here https://c.app.hopsworks.ai:443/p/1215683\n"
     ]
    }
   ],
   "source": [
    "fs = get_feature_store()\n",
    "fg = fs.get_feature_group(\n",
    "    name=config.FEATURE_GROUP_MODEL_PREDICTION,\n",
    "    version=1\n",
    ")\n",
    "\n",
    "query = fg.select_all()"
   ]
  },
  {
   "cell_type": "code",
   "execution_count": 6,
   "id": "c6321059-d894-4f75-94c8-b4ea29bf8ea5",
   "metadata": {},
   "outputs": [
    {
     "name": "stdout",
     "output_type": "stream",
     "text": [
      "Finished: Reading data from Hopsworks, using Hopsworks Feature Query Service (53.09s) \n"
     ]
    }
   ],
   "source": [
    "df= query.read()"
   ]
  },
  {
   "cell_type": "code",
   "execution_count": null,
   "id": "367f3978-9a5d-4d97-b19a-88afcfb1d14f",
   "metadata": {},
   "outputs": [],
   "source": []
  },
  {
   "cell_type": "code",
   "execution_count": 7,
   "id": "8d03786a-90dc-425a-8e4e-3b4dca4a08fa",
   "metadata": {},
   "outputs": [
    {
     "data": {
      "text/html": [
       "<div>\n",
       "<style scoped>\n",
       "    .dataframe tbody tr th:only-of-type {\n",
       "        vertical-align: middle;\n",
       "    }\n",
       "\n",
       "    .dataframe tbody tr th {\n",
       "        vertical-align: top;\n",
       "    }\n",
       "\n",
       "    .dataframe thead th {\n",
       "        text-align: right;\n",
       "    }\n",
       "</style>\n",
       "<table border=\"1\" class=\"dataframe\">\n",
       "  <thead>\n",
       "    <tr style=\"text-align: right;\">\n",
       "      <th></th>\n",
       "      <th>pickup_location_id</th>\n",
       "      <th>predicted_demand</th>\n",
       "      <th>pickup_hour</th>\n",
       "    </tr>\n",
       "  </thead>\n",
       "  <tbody>\n",
       "    <tr>\n",
       "      <th>0</th>\n",
       "      <td>176</td>\n",
       "      <td>0.0</td>\n",
       "      <td>2025-03-05 19:00:00+00:00</td>\n",
       "    </tr>\n",
       "    <tr>\n",
       "      <th>1</th>\n",
       "      <td>27</td>\n",
       "      <td>0.0</td>\n",
       "      <td>2025-03-05 19:00:00+00:00</td>\n",
       "    </tr>\n",
       "    <tr>\n",
       "      <th>2</th>\n",
       "      <td>152</td>\n",
       "      <td>3.0</td>\n",
       "      <td>2025-03-05 19:00:00+00:00</td>\n",
       "    </tr>\n",
       "    <tr>\n",
       "      <th>3</th>\n",
       "      <td>43</td>\n",
       "      <td>61.0</td>\n",
       "      <td>2025-03-05 19:00:00+00:00</td>\n",
       "    </tr>\n",
       "    <tr>\n",
       "      <th>4</th>\n",
       "      <td>262</td>\n",
       "      <td>16.0</td>\n",
       "      <td>2025-03-05 19:00:00+00:00</td>\n",
       "    </tr>\n",
       "    <tr>\n",
       "      <th>...</th>\n",
       "      <td>...</td>\n",
       "      <td>...</td>\n",
       "      <td>...</td>\n",
       "    </tr>\n",
       "    <tr>\n",
       "      <th>247</th>\n",
       "      <td>138</td>\n",
       "      <td>37.0</td>\n",
       "      <td>2025-03-05 19:00:00+00:00</td>\n",
       "    </tr>\n",
       "    <tr>\n",
       "      <th>248</th>\n",
       "      <td>200</td>\n",
       "      <td>0.0</td>\n",
       "      <td>2025-03-05 19:00:00+00:00</td>\n",
       "    </tr>\n",
       "    <tr>\n",
       "      <th>249</th>\n",
       "      <td>80</td>\n",
       "      <td>0.0</td>\n",
       "      <td>2025-03-05 19:00:00+00:00</td>\n",
       "    </tr>\n",
       "    <tr>\n",
       "      <th>250</th>\n",
       "      <td>78</td>\n",
       "      <td>0.0</td>\n",
       "      <td>2025-03-05 19:00:00+00:00</td>\n",
       "    </tr>\n",
       "    <tr>\n",
       "      <th>251</th>\n",
       "      <td>52</td>\n",
       "      <td>1.0</td>\n",
       "      <td>2025-03-05 19:00:00+00:00</td>\n",
       "    </tr>\n",
       "  </tbody>\n",
       "</table>\n",
       "<p>252 rows × 3 columns</p>\n",
       "</div>"
      ],
      "text/plain": [
       "     pickup_location_id  predicted_demand               pickup_hour\n",
       "0                   176               0.0 2025-03-05 19:00:00+00:00\n",
       "1                    27               0.0 2025-03-05 19:00:00+00:00\n",
       "2                   152               3.0 2025-03-05 19:00:00+00:00\n",
       "3                    43              61.0 2025-03-05 19:00:00+00:00\n",
       "4                   262              16.0 2025-03-05 19:00:00+00:00\n",
       "..                  ...               ...                       ...\n",
       "247                 138              37.0 2025-03-05 19:00:00+00:00\n",
       "248                 200               0.0 2025-03-05 19:00:00+00:00\n",
       "249                  80               0.0 2025-03-05 19:00:00+00:00\n",
       "250                  78               0.0 2025-03-05 19:00:00+00:00\n",
       "251                  52               1.0 2025-03-05 19:00:00+00:00\n",
       "\n",
       "[252 rows x 3 columns]"
      ]
     },
     "execution_count": 7,
     "metadata": {},
     "output_type": "execute_result"
    }
   ],
   "source": [
    "df"
   ]
  },
  {
   "cell_type": "code",
   "execution_count": null,
   "id": "90415d0c-053a-4fba-94dd-eb6d231875bd",
   "metadata": {},
   "outputs": [],
   "source": []
  },
  {
   "cell_type": "code",
   "execution_count": 8,
   "id": "39ea132b-5a59-44cb-b155-fa765164e3cc",
   "metadata": {},
   "outputs": [
    {
     "name": "stdout",
     "output_type": "stream",
     "text": [
      "2025-03-05 14:03:25,296 INFO: Closing external client and cleaning up certificates.\n",
      "Connection closed.\n",
      "2025-03-05 14:03:25,311 INFO: Initializing external client\n",
      "2025-03-05 14:03:25,314 INFO: Base URL: https://c.app.hopsworks.ai:443\n",
      "2025-03-05 14:03:26,117 INFO: Python Engine initialized.\n",
      "\n",
      "Logged in to project, explore it here https://c.app.hopsworks.ai:443/p/1215683\n",
      "Current UTC time: 2025-03-05 19:03:25.293928+00:00\n",
      "Next hour: 2025-03-05 20:00:00+00:00\n",
      "Querying for date range: 2025-03-05 to 2025-03-06\n",
      "Filtering for hour: 2025-03-05 20:00\n",
      "Found 0 records\n"
     ]
    }
   ],
   "source": [
    "from datetime import datetime, timezone, timedelta\n",
    "\n",
    "def fetch_next_hour_predictions():\n",
    "    # Get current UTC time and round up to next hour\n",
    "    now = datetime.now(timezone.utc)\n",
    "    next_hour = (now + timedelta(hours=1)).replace(minute=0, second=0, microsecond=0)\n",
    "\n",
    "    # Extract components from the rounded-up time\n",
    "    year = next_hour.year\n",
    "    month = next_hour.month\n",
    "    day = next_hour.day\n",
    "    hour = next_hour.hour\n",
    "\n",
    "    # Create date strings in YYYY-MM-DD format\n",
    "    current_date = f\"{year}-{month:02d}-{day:02d}\"\n",
    "    next_date = next_hour + timedelta(days=1)\n",
    "    next_date_str = next_date.strftime(\"%Y-%m-%d\")\n",
    "\n",
    "    fs = get_feature_store()\n",
    "    fg = fs.get_feature_group(\n",
    "        name=config.FEATURE_GROUP_MODEL_PREDICTION,\n",
    "        version=1\n",
    "    )\n",
    "\n",
    "    # # First get the full day's data from Hopsworks\n",
    "    # df = fg.filter(\n",
    "    #     (fg.pickup_hour >= current_date) &\n",
    "    #     (fg.pickup_hour < next_date_str)\n",
    "    # ).read()\n",
    "\n",
    "    # Then filter for next hour in the DataFrame\n",
    "    hour_str = f\"{current_date} {hour:02d}:00\"\n",
    "    df_hour = df[df['pickup_hour'] == hour_str]\n",
    "\n",
    "    print(f\"Current UTC time: {now}\")\n",
    "    print(f\"Next hour: {next_hour}\")\n",
    "    print(f\"Querying for date range: {current_date} to {next_date_str}\")\n",
    "    print(f\"Filtering for hour: {hour_str}\")\n",
    "    print(f\"Found {len(df_hour)} records\")\n",
    "    return df_hour\n",
    "\n",
    "# Example usage:\n",
    "predictions = fetch_next_hour_predictions()"
   ]
  },
  {
   "cell_type": "code",
   "execution_count": 9,
   "id": "4c512f98-d569-4a9f-8391-d301b1226c91",
   "metadata": {},
   "outputs": [],
   "source": [
    "now = datetime.now(timezone.utc)"
   ]
  },
  {
   "cell_type": "code",
   "execution_count": 10,
   "id": "0e5671d3-701d-4fca-bb91-a697f622239a",
   "metadata": {},
   "outputs": [
    {
     "data": {
      "text/html": [
       "<div>\n",
       "<style scoped>\n",
       "    .dataframe tbody tr th:only-of-type {\n",
       "        vertical-align: middle;\n",
       "    }\n",
       "\n",
       "    .dataframe tbody tr th {\n",
       "        vertical-align: top;\n",
       "    }\n",
       "\n",
       "    .dataframe thead th {\n",
       "        text-align: right;\n",
       "    }\n",
       "</style>\n",
       "<table border=\"1\" class=\"dataframe\">\n",
       "  <thead>\n",
       "    <tr style=\"text-align: right;\">\n",
       "      <th></th>\n",
       "      <th>pickup_location_id</th>\n",
       "      <th>predicted_demand</th>\n",
       "      <th>pickup_hour</th>\n",
       "    </tr>\n",
       "  </thead>\n",
       "  <tbody>\n",
       "  </tbody>\n",
       "</table>\n",
       "</div>"
      ],
      "text/plain": [
       "Empty DataFrame\n",
       "Columns: [pickup_location_id, predicted_demand, pickup_hour]\n",
       "Index: []"
      ]
     },
     "execution_count": 10,
     "metadata": {},
     "output_type": "execute_result"
    }
   ],
   "source": [
    "predictions"
   ]
  },
  {
   "cell_type": "code",
   "execution_count": 11,
   "id": "48c2c460-25c6-4c26-84e8-ae82a1fdcf33",
   "metadata": {},
   "outputs": [
    {
     "name": "stdout",
     "output_type": "stream",
     "text": [
      "<class 'pandas.core.frame.DataFrame'>\n",
      "RangeIndex: 252 entries, 0 to 251\n",
      "Data columns (total 3 columns):\n",
      " #   Column              Non-Null Count  Dtype                  \n",
      "---  ------              --------------  -----                  \n",
      " 0   pickup_location_id  252 non-null    int32                  \n",
      " 1   predicted_demand    252 non-null    float64                \n",
      " 2   pickup_hour         252 non-null    datetime64[us, Etc/UTC]\n",
      "dtypes: datetime64[us, Etc/UTC](1), float64(1), int32(1)\n",
      "memory usage: 5.1 KB\n"
     ]
    }
   ],
   "source": [
    "df.info()"
   ]
  },
  {
   "cell_type": "code",
   "execution_count": 12,
   "id": "5930b159-b4e4-4b51-acd9-0b7b167b6236",
   "metadata": {},
   "outputs": [],
   "source": [
    "import pandas as pd\n",
    "current_date = pd.Timestamp.now(tz='Etc/UTC').ceil('h')"
   ]
  },
  {
   "cell_type": "code",
   "execution_count": 13,
   "id": "14cb7cca-beba-4017-9fa0-5ad7b6acfe90",
   "metadata": {},
   "outputs": [],
   "source": [
    "dt = current_date.ceil('h')\n"
   ]
  },
  {
   "cell_type": "code",
   "execution_count": null,
   "id": "455e4d11-8a5a-434c-b634-bbf9edd02bd7",
   "metadata": {},
   "outputs": [
    {
     "name": "stdout",
     "output_type": "stream",
     "text": [
      "2025-03-05 14:03:27,332 INFO: Closing external client and cleaning up certificates.\n",
      "Connection closed.\n",
      "2025-03-05 14:03:27,348 INFO: Initializing external client\n",
      "2025-03-05 14:03:27,350 INFO: Base URL: https://c.app.hopsworks.ai:443\n",
      "2025-03-05 14:03:28,065 INFO: Python Engine initialized.\n",
      "\n",
      "Logged in to project, explore it here https://c.app.hopsworks.ai:443/p/1215683\n",
      "Reading data from Hopsworks, using Hopsworks Feature Query Service...   \r"
     ]
    }
   ],
   "source": [
    "fs = get_feature_store()  \n",
    "fg = fs.get_feature_group(  \n",
    "    name=config.FEATURE_GROUP_MODEL_PREDICTION,  \n",
    "    version=1  \n",
    ")  \n",
    "query = fg.select_all() \n",
    "# query = query.filter(fg.pickup_hour >= \"2025-02-13 04:00\")\n",
    "query = query.filter(fg.pickup_hour > \"2025-02-13 05:00:00\")  \n",
    "results = query.read()"
   ]
  },
  {
   "cell_type": "code",
   "execution_count": null,
   "id": "fab34fc8-2594-4dfd-8046-fa7ede562979",
   "metadata": {},
   "outputs": [
    {
     "name": "stdout",
     "output_type": "stream",
     "text": [
      "2025-03-05 13:56:55,657 ERROR: Flight returned timeout error, with message: Deadline Exceeded\n",
      "Traceback (most recent call last):\n",
      "  File \"d:\\Taxi_Project\\nyc_taxi\\taxi_venv\\Lib\\site-packages\\hsfs\\core\\arrow_flight_client.py\", line 394, in afs_error_handler_wrapper\n",
      "    return func(instance, *args, **kw)\n",
      "           ^^^^^^^^^^^^^^^^^^^^^^^^^^^\n",
      "  File \"d:\\Taxi_Project\\nyc_taxi\\taxi_venv\\Lib\\site-packages\\hsfs\\core\\arrow_flight_client.py\", line 459, in read_query\n",
      "    return self._get_dataset(\n",
      "           ^^^^^^^^^^^^^^^^^^\n",
      "  File \"d:\\Taxi_Project\\nyc_taxi\\taxi_venv\\Lib\\site-packages\\retrying.py\", line 56, in wrapped_f\n",
      "    return Retrying(*dargs, **dkw).call(f, *args, **kw)\n",
      "           ^^^^^^^^^^^^^^^^^^^^^^^^^^^^^^^^^^^^^^^^^^^^\n",
      "  File \"d:\\Taxi_Project\\nyc_taxi\\taxi_venv\\Lib\\site-packages\\retrying.py\", line 257, in call\n",
      "    return attempt.get(self._wrap_exception)\n",
      "           ^^^^^^^^^^^^^^^^^^^^^^^^^^^^^^^^^\n",
      "  File \"d:\\Taxi_Project\\nyc_taxi\\taxi_venv\\Lib\\site-packages\\retrying.py\", line 301, in get\n",
      "    six.reraise(self.value[0], self.value[1], self.value[2])\n",
      "  File \"d:\\Taxi_Project\\nyc_taxi\\taxi_venv\\Lib\\site-packages\\six.py\", line 724, in reraise\n",
      "    raise value\n",
      "  File \"d:\\Taxi_Project\\nyc_taxi\\taxi_venv\\Lib\\site-packages\\retrying.py\", line 251, in call\n",
      "    attempt = Attempt(fn(*args, **kwargs), attempt_number, False)\n",
      "                      ^^^^^^^^^^^^^^^^^^^\n",
      "  File \"d:\\Taxi_Project\\nyc_taxi\\taxi_venv\\Lib\\site-packages\\hsfs\\core\\arrow_flight_client.py\", line 440, in _get_dataset\n",
      "    info = self.get_flight_info(descriptor)\n",
      "           ^^^^^^^^^^^^^^^^^^^^^^^^^^^^^^^^\n",
      "  File \"d:\\Taxi_Project\\nyc_taxi\\taxi_venv\\Lib\\site-packages\\retrying.py\", line 56, in wrapped_f\n",
      "    return Retrying(*dargs, **dkw).call(f, *args, **kw)\n",
      "           ^^^^^^^^^^^^^^^^^^^^^^^^^^^^^^^^^^^^^^^^^^^^\n",
      "  File \"d:\\Taxi_Project\\nyc_taxi\\taxi_venv\\Lib\\site-packages\\retrying.py\", line 257, in call\n",
      "    return attempt.get(self._wrap_exception)\n",
      "           ^^^^^^^^^^^^^^^^^^^^^^^^^^^^^^^^^\n",
      "  File \"d:\\Taxi_Project\\nyc_taxi\\taxi_venv\\Lib\\site-packages\\retrying.py\", line 301, in get\n",
      "    six.reraise(self.value[0], self.value[1], self.value[2])\n",
      "  File \"d:\\Taxi_Project\\nyc_taxi\\taxi_venv\\Lib\\site-packages\\six.py\", line 724, in reraise\n",
      "    raise value\n",
      "  File \"d:\\Taxi_Project\\nyc_taxi\\taxi_venv\\Lib\\site-packages\\retrying.py\", line 251, in call\n",
      "    attempt = Attempt(fn(*args, **kwargs), attempt_number, False)\n",
      "                      ^^^^^^^^^^^^^^^^^^^\n",
      "  File \"d:\\Taxi_Project\\nyc_taxi\\taxi_venv\\Lib\\site-packages\\hsfs\\core\\arrow_flight_client.py\", line 427, in get_flight_info\n",
      "    return self._connection.get_flight_info(\n",
      "           ^^^^^^^^^^^^^^^^^^^^^^^^^^^^^^^^^\n",
      "  File \"pyarrow\\\\_flight.pyx\", line 1675, in pyarrow._flight.FlightClient.get_flight_info\n",
      "  File \"pyarrow\\\\_flight.pyx\", line 60, in pyarrow._flight.check_flight_status\n",
      "pyarrow._flight.FlightTimedOutError: Flight returned timeout error, with message: Deadline Exceeded\n",
      "Error: Reading data from Hopsworks, using Hopsworks Feature Query Service           \n"
     ]
    },
    {
     "ename": "FeatureStoreException",
     "evalue": "Could not read data using Hopsworks Query Service.",
     "output_type": "error",
     "traceback": [
      "\u001b[31m---------------------------------------------------------------------------\u001b[39m",
      "\u001b[31mFlightTimedOutError\u001b[39m                       Traceback (most recent call last)",
      "\u001b[36mFile \u001b[39m\u001b[32md:\\Taxi_Project\\nyc_taxi\\taxi_venv\\Lib\\site-packages\\hsfs\\core\\arrow_flight_client.py:394\u001b[39m, in \u001b[36mArrowFlightClient._handle_afs_exception.<locals>.decorator.<locals>.afs_error_handler_wrapper\u001b[39m\u001b[34m(instance, *args, **kw)\u001b[39m\n\u001b[32m    393\u001b[39m \u001b[38;5;28;01mtry\u001b[39;00m:\n\u001b[32m--> \u001b[39m\u001b[32m394\u001b[39m     \u001b[38;5;28;01mreturn\u001b[39;00m \u001b[43mfunc\u001b[49m\u001b[43m(\u001b[49m\u001b[43minstance\u001b[49m\u001b[43m,\u001b[49m\u001b[43m \u001b[49m\u001b[43m*\u001b[49m\u001b[43margs\u001b[49m\u001b[43m,\u001b[49m\u001b[43m \u001b[49m\u001b[43m*\u001b[49m\u001b[43m*\u001b[49m\u001b[43mkw\u001b[49m\u001b[43m)\u001b[49m\n\u001b[32m    395\u001b[39m \u001b[38;5;28;01mexcept\u001b[39;00m \u001b[38;5;167;01mException\u001b[39;00m \u001b[38;5;28;01mas\u001b[39;00m e:\n",
      "\u001b[36mFile \u001b[39m\u001b[32md:\\Taxi_Project\\nyc_taxi\\taxi_venv\\Lib\\site-packages\\hsfs\\core\\arrow_flight_client.py:459\u001b[39m, in \u001b[36mArrowFlightClient.read_query\u001b[39m\u001b[34m(self, query_object, arrow_flight_config, dataframe_type)\u001b[39m\n\u001b[32m    458\u001b[39m descriptor = pyarrow.flight.FlightDescriptor.for_command(query_encoded)\n\u001b[32m--> \u001b[39m\u001b[32m459\u001b[39m \u001b[38;5;28;01mreturn\u001b[39;00m \u001b[38;5;28;43mself\u001b[39;49m\u001b[43m.\u001b[49m\u001b[43m_get_dataset\u001b[49m\u001b[43m(\u001b[49m\n\u001b[32m    460\u001b[39m \u001b[43m    \u001b[49m\u001b[43mdescriptor\u001b[49m\u001b[43m,\u001b[49m\n\u001b[32m    461\u001b[39m \u001b[43m    \u001b[49m\u001b[43m(\u001b[49m\n\u001b[32m    462\u001b[39m \u001b[43m        \u001b[49m\u001b[43marrow_flight_config\u001b[49m\u001b[43m.\u001b[49m\u001b[43mget\u001b[49m\u001b[43m(\u001b[49m\u001b[33;43m\"\u001b[39;49m\u001b[33;43mtimeout\u001b[39;49m\u001b[33;43m\"\u001b[39;49m\u001b[43m,\u001b[49m\u001b[43m \u001b[49m\u001b[38;5;28;43mself\u001b[39;49m\u001b[43m.\u001b[49m\u001b[43mtimeout\u001b[49m\u001b[43m)\u001b[49m\n\u001b[32m    463\u001b[39m \u001b[43m        \u001b[49m\u001b[38;5;28;43;01mif\u001b[39;49;00m\u001b[43m \u001b[49m\u001b[43marrow_flight_config\u001b[49m\n\u001b[32m    464\u001b[39m \u001b[43m        \u001b[49m\u001b[38;5;28;43;01melse\u001b[39;49;00m\u001b[43m \u001b[49m\u001b[38;5;28;43mself\u001b[39;49m\u001b[43m.\u001b[49m\u001b[43mtimeout\u001b[49m\n\u001b[32m    465\u001b[39m \u001b[43m    \u001b[49m\u001b[43m)\u001b[49m\u001b[43m,\u001b[49m\n\u001b[32m    466\u001b[39m \u001b[43m    \u001b[49m\u001b[43mdataframe_type\u001b[49m\u001b[43m,\u001b[49m\n\u001b[32m    467\u001b[39m \u001b[43m\u001b[49m\u001b[43m)\u001b[49m\n",
      "\u001b[36mFile \u001b[39m\u001b[32md:\\Taxi_Project\\nyc_taxi\\taxi_venv\\Lib\\site-packages\\retrying.py:56\u001b[39m, in \u001b[36mretry.<locals>.wrap.<locals>.wrapped_f\u001b[39m\u001b[34m(*args, **kw)\u001b[39m\n\u001b[32m     54\u001b[39m \u001b[38;5;129m@six\u001b[39m.wraps(f)\n\u001b[32m     55\u001b[39m \u001b[38;5;28;01mdef\u001b[39;00m\u001b[38;5;250m \u001b[39m\u001b[34mwrapped_f\u001b[39m(*args, **kw):\n\u001b[32m---> \u001b[39m\u001b[32m56\u001b[39m     \u001b[38;5;28;01mreturn\u001b[39;00m \u001b[43mRetrying\u001b[49m\u001b[43m(\u001b[49m\u001b[43m*\u001b[49m\u001b[43mdargs\u001b[49m\u001b[43m,\u001b[49m\u001b[43m \u001b[49m\u001b[43m*\u001b[49m\u001b[43m*\u001b[49m\u001b[43mdkw\u001b[49m\u001b[43m)\u001b[49m\u001b[43m.\u001b[49m\u001b[43mcall\u001b[49m\u001b[43m(\u001b[49m\u001b[43mf\u001b[49m\u001b[43m,\u001b[49m\u001b[43m \u001b[49m\u001b[43m*\u001b[49m\u001b[43margs\u001b[49m\u001b[43m,\u001b[49m\u001b[43m \u001b[49m\u001b[43m*\u001b[49m\u001b[43m*\u001b[49m\u001b[43mkw\u001b[49m\u001b[43m)\u001b[49m\n",
      "\u001b[36mFile \u001b[39m\u001b[32md:\\Taxi_Project\\nyc_taxi\\taxi_venv\\Lib\\site-packages\\retrying.py:257\u001b[39m, in \u001b[36mRetrying.call\u001b[39m\u001b[34m(self, fn, *args, **kwargs)\u001b[39m\n\u001b[32m    256\u001b[39m \u001b[38;5;28;01mif\u001b[39;00m \u001b[38;5;129;01mnot\u001b[39;00m \u001b[38;5;28mself\u001b[39m.should_reject(attempt):\n\u001b[32m--> \u001b[39m\u001b[32m257\u001b[39m     \u001b[38;5;28;01mreturn\u001b[39;00m \u001b[43mattempt\u001b[49m\u001b[43m.\u001b[49m\u001b[43mget\u001b[49m\u001b[43m(\u001b[49m\u001b[38;5;28;43mself\u001b[39;49m\u001b[43m.\u001b[49m\u001b[43m_wrap_exception\u001b[49m\u001b[43m)\u001b[49m\n\u001b[32m    259\u001b[39m \u001b[38;5;28;01mif\u001b[39;00m \u001b[38;5;28mself\u001b[39m._after_attempts:\n",
      "\u001b[36mFile \u001b[39m\u001b[32md:\\Taxi_Project\\nyc_taxi\\taxi_venv\\Lib\\site-packages\\retrying.py:301\u001b[39m, in \u001b[36mAttempt.get\u001b[39m\u001b[34m(self, wrap_exception)\u001b[39m\n\u001b[32m    300\u001b[39m     \u001b[38;5;28;01melse\u001b[39;00m:\n\u001b[32m--> \u001b[39m\u001b[32m301\u001b[39m         \u001b[43msix\u001b[49m\u001b[43m.\u001b[49m\u001b[43mreraise\u001b[49m\u001b[43m(\u001b[49m\u001b[38;5;28;43mself\u001b[39;49m\u001b[43m.\u001b[49m\u001b[43mvalue\u001b[49m\u001b[43m[\u001b[49m\u001b[32;43m0\u001b[39;49m\u001b[43m]\u001b[49m\u001b[43m,\u001b[49m\u001b[43m \u001b[49m\u001b[38;5;28;43mself\u001b[39;49m\u001b[43m.\u001b[49m\u001b[43mvalue\u001b[49m\u001b[43m[\u001b[49m\u001b[32;43m1\u001b[39;49m\u001b[43m]\u001b[49m\u001b[43m,\u001b[49m\u001b[43m \u001b[49m\u001b[38;5;28;43mself\u001b[39;49m\u001b[43m.\u001b[49m\u001b[43mvalue\u001b[49m\u001b[43m[\u001b[49m\u001b[32;43m2\u001b[39;49m\u001b[43m]\u001b[49m\u001b[43m)\u001b[49m\n\u001b[32m    302\u001b[39m \u001b[38;5;28;01melse\u001b[39;00m:\n",
      "\u001b[36mFile \u001b[39m\u001b[32md:\\Taxi_Project\\nyc_taxi\\taxi_venv\\Lib\\site-packages\\six.py:724\u001b[39m, in \u001b[36mreraise\u001b[39m\u001b[34m(tp, value, tb)\u001b[39m\n\u001b[32m    723\u001b[39m         \u001b[38;5;28;01mraise\u001b[39;00m value.with_traceback(tb)\n\u001b[32m--> \u001b[39m\u001b[32m724\u001b[39m     \u001b[38;5;28;01mraise\u001b[39;00m value\n\u001b[32m    725\u001b[39m \u001b[38;5;28;01mfinally\u001b[39;00m:\n",
      "\u001b[36mFile \u001b[39m\u001b[32md:\\Taxi_Project\\nyc_taxi\\taxi_venv\\Lib\\site-packages\\retrying.py:251\u001b[39m, in \u001b[36mRetrying.call\u001b[39m\u001b[34m(self, fn, *args, **kwargs)\u001b[39m\n\u001b[32m    250\u001b[39m \u001b[38;5;28;01mtry\u001b[39;00m:\n\u001b[32m--> \u001b[39m\u001b[32m251\u001b[39m     attempt = Attempt(\u001b[43mfn\u001b[49m\u001b[43m(\u001b[49m\u001b[43m*\u001b[49m\u001b[43margs\u001b[49m\u001b[43m,\u001b[49m\u001b[43m \u001b[49m\u001b[43m*\u001b[49m\u001b[43m*\u001b[49m\u001b[43mkwargs\u001b[49m\u001b[43m)\u001b[49m, attempt_number, \u001b[38;5;28;01mFalse\u001b[39;00m)\n\u001b[32m    252\u001b[39m \u001b[38;5;28;01mexcept\u001b[39;00m:\n",
      "\u001b[36mFile \u001b[39m\u001b[32md:\\Taxi_Project\\nyc_taxi\\taxi_venv\\Lib\\site-packages\\hsfs\\core\\arrow_flight_client.py:440\u001b[39m, in \u001b[36mArrowFlightClient._get_dataset\u001b[39m\u001b[34m(self, descriptor, timeout, dataframe_type)\u001b[39m\n\u001b[32m    439\u001b[39m     timeout = \u001b[38;5;28mself\u001b[39m.timeout\n\u001b[32m--> \u001b[39m\u001b[32m440\u001b[39m info = \u001b[38;5;28;43mself\u001b[39;49m\u001b[43m.\u001b[49m\u001b[43mget_flight_info\u001b[49m\u001b[43m(\u001b[49m\u001b[43mdescriptor\u001b[49m\u001b[43m)\u001b[49m\n\u001b[32m    441\u001b[39m _logger.debug(\u001b[33m\"\u001b[39m\u001b[33mRetrieved flight info: \u001b[39m\u001b[38;5;132;01m%s\u001b[39;00m\u001b[33m. Fetching dataset.\u001b[39m\u001b[33m\"\u001b[39m, \u001b[38;5;28mstr\u001b[39m(info))\n",
      "\u001b[36mFile \u001b[39m\u001b[32md:\\Taxi_Project\\nyc_taxi\\taxi_venv\\Lib\\site-packages\\retrying.py:56\u001b[39m, in \u001b[36mretry.<locals>.wrap.<locals>.wrapped_f\u001b[39m\u001b[34m(*args, **kw)\u001b[39m\n\u001b[32m     54\u001b[39m \u001b[38;5;129m@six\u001b[39m.wraps(f)\n\u001b[32m     55\u001b[39m \u001b[38;5;28;01mdef\u001b[39;00m\u001b[38;5;250m \u001b[39m\u001b[34mwrapped_f\u001b[39m(*args, **kw):\n\u001b[32m---> \u001b[39m\u001b[32m56\u001b[39m     \u001b[38;5;28;01mreturn\u001b[39;00m \u001b[43mRetrying\u001b[49m\u001b[43m(\u001b[49m\u001b[43m*\u001b[49m\u001b[43mdargs\u001b[49m\u001b[43m,\u001b[49m\u001b[43m \u001b[49m\u001b[43m*\u001b[49m\u001b[43m*\u001b[49m\u001b[43mdkw\u001b[49m\u001b[43m)\u001b[49m\u001b[43m.\u001b[49m\u001b[43mcall\u001b[49m\u001b[43m(\u001b[49m\u001b[43mf\u001b[49m\u001b[43m,\u001b[49m\u001b[43m \u001b[49m\u001b[43m*\u001b[49m\u001b[43margs\u001b[49m\u001b[43m,\u001b[49m\u001b[43m \u001b[49m\u001b[43m*\u001b[49m\u001b[43m*\u001b[49m\u001b[43mkw\u001b[49m\u001b[43m)\u001b[49m\n",
      "\u001b[36mFile \u001b[39m\u001b[32md:\\Taxi_Project\\nyc_taxi\\taxi_venv\\Lib\\site-packages\\retrying.py:257\u001b[39m, in \u001b[36mRetrying.call\u001b[39m\u001b[34m(self, fn, *args, **kwargs)\u001b[39m\n\u001b[32m    256\u001b[39m \u001b[38;5;28;01mif\u001b[39;00m \u001b[38;5;129;01mnot\u001b[39;00m \u001b[38;5;28mself\u001b[39m.should_reject(attempt):\n\u001b[32m--> \u001b[39m\u001b[32m257\u001b[39m     \u001b[38;5;28;01mreturn\u001b[39;00m \u001b[43mattempt\u001b[49m\u001b[43m.\u001b[49m\u001b[43mget\u001b[49m\u001b[43m(\u001b[49m\u001b[38;5;28;43mself\u001b[39;49m\u001b[43m.\u001b[49m\u001b[43m_wrap_exception\u001b[49m\u001b[43m)\u001b[49m\n\u001b[32m    259\u001b[39m \u001b[38;5;28;01mif\u001b[39;00m \u001b[38;5;28mself\u001b[39m._after_attempts:\n",
      "\u001b[36mFile \u001b[39m\u001b[32md:\\Taxi_Project\\nyc_taxi\\taxi_venv\\Lib\\site-packages\\retrying.py:301\u001b[39m, in \u001b[36mAttempt.get\u001b[39m\u001b[34m(self, wrap_exception)\u001b[39m\n\u001b[32m    300\u001b[39m     \u001b[38;5;28;01melse\u001b[39;00m:\n\u001b[32m--> \u001b[39m\u001b[32m301\u001b[39m         \u001b[43msix\u001b[49m\u001b[43m.\u001b[49m\u001b[43mreraise\u001b[49m\u001b[43m(\u001b[49m\u001b[38;5;28;43mself\u001b[39;49m\u001b[43m.\u001b[49m\u001b[43mvalue\u001b[49m\u001b[43m[\u001b[49m\u001b[32;43m0\u001b[39;49m\u001b[43m]\u001b[49m\u001b[43m,\u001b[49m\u001b[43m \u001b[49m\u001b[38;5;28;43mself\u001b[39;49m\u001b[43m.\u001b[49m\u001b[43mvalue\u001b[49m\u001b[43m[\u001b[49m\u001b[32;43m1\u001b[39;49m\u001b[43m]\u001b[49m\u001b[43m,\u001b[49m\u001b[43m \u001b[49m\u001b[38;5;28;43mself\u001b[39;49m\u001b[43m.\u001b[49m\u001b[43mvalue\u001b[49m\u001b[43m[\u001b[49m\u001b[32;43m2\u001b[39;49m\u001b[43m]\u001b[49m\u001b[43m)\u001b[49m\n\u001b[32m    302\u001b[39m \u001b[38;5;28;01melse\u001b[39;00m:\n",
      "\u001b[36mFile \u001b[39m\u001b[32md:\\Taxi_Project\\nyc_taxi\\taxi_venv\\Lib\\site-packages\\six.py:724\u001b[39m, in \u001b[36mreraise\u001b[39m\u001b[34m(tp, value, tb)\u001b[39m\n\u001b[32m    723\u001b[39m         \u001b[38;5;28;01mraise\u001b[39;00m value.with_traceback(tb)\n\u001b[32m--> \u001b[39m\u001b[32m724\u001b[39m     \u001b[38;5;28;01mraise\u001b[39;00m value\n\u001b[32m    725\u001b[39m \u001b[38;5;28;01mfinally\u001b[39;00m:\n",
      "\u001b[36mFile \u001b[39m\u001b[32md:\\Taxi_Project\\nyc_taxi\\taxi_venv\\Lib\\site-packages\\retrying.py:251\u001b[39m, in \u001b[36mRetrying.call\u001b[39m\u001b[34m(self, fn, *args, **kwargs)\u001b[39m\n\u001b[32m    250\u001b[39m \u001b[38;5;28;01mtry\u001b[39;00m:\n\u001b[32m--> \u001b[39m\u001b[32m251\u001b[39m     attempt = Attempt(\u001b[43mfn\u001b[49m\u001b[43m(\u001b[49m\u001b[43m*\u001b[49m\u001b[43margs\u001b[49m\u001b[43m,\u001b[49m\u001b[43m \u001b[49m\u001b[43m*\u001b[49m\u001b[43m*\u001b[49m\u001b[43mkwargs\u001b[49m\u001b[43m)\u001b[49m, attempt_number, \u001b[38;5;28;01mFalse\u001b[39;00m)\n\u001b[32m    252\u001b[39m \u001b[38;5;28;01mexcept\u001b[39;00m:\n",
      "\u001b[36mFile \u001b[39m\u001b[32md:\\Taxi_Project\\nyc_taxi\\taxi_venv\\Lib\\site-packages\\hsfs\\core\\arrow_flight_client.py:427\u001b[39m, in \u001b[36mArrowFlightClient.get_flight_info\u001b[39m\u001b[34m(self, descriptor)\u001b[39m\n\u001b[32m    426\u001b[39m options = pyarrow.flight.FlightCallOptions(timeout=\u001b[38;5;28mself\u001b[39m.health_check_timeout)\n\u001b[32m--> \u001b[39m\u001b[32m427\u001b[39m \u001b[38;5;28;01mreturn\u001b[39;00m \u001b[38;5;28;43mself\u001b[39;49m\u001b[43m.\u001b[49m\u001b[43m_connection\u001b[49m\u001b[43m.\u001b[49m\u001b[43mget_flight_info\u001b[49m\u001b[43m(\u001b[49m\n\u001b[32m    428\u001b[39m \u001b[43m    \u001b[49m\u001b[43mdescriptor\u001b[49m\u001b[43m,\u001b[49m\n\u001b[32m    429\u001b[39m \u001b[43m    \u001b[49m\u001b[43moptions\u001b[49m\u001b[43m=\u001b[49m\u001b[43moptions\u001b[49m\u001b[43m,\u001b[49m\n\u001b[32m    430\u001b[39m \u001b[43m\u001b[49m\u001b[43m)\u001b[49m\n",
      "\u001b[36mFile \u001b[39m\u001b[32md:\\Taxi_Project\\nyc_taxi\\taxi_venv\\Lib\\site-packages\\pyarrow\\_flight.pyx:1675\u001b[39m, in \u001b[36mpyarrow._flight.FlightClient.get_flight_info\u001b[39m\u001b[34m()\u001b[39m\n",
      "\u001b[36mFile \u001b[39m\u001b[32md:\\Taxi_Project\\nyc_taxi\\taxi_venv\\Lib\\site-packages\\pyarrow\\_flight.pyx:60\u001b[39m, in \u001b[36mpyarrow._flight.check_flight_status\u001b[39m\u001b[34m()\u001b[39m\n",
      "\u001b[31mFlightTimedOutError\u001b[39m: Flight returned timeout error, with message: Deadline Exceeded",
      "\nThe above exception was the direct cause of the following exception:\n",
      "\u001b[31mFeatureStoreException\u001b[39m                     Traceback (most recent call last)",
      "\u001b[36mCell\u001b[39m\u001b[36m \u001b[39m\u001b[32mIn[17]\u001b[39m\u001b[32m, line 1\u001b[39m\n\u001b[32m----> \u001b[39m\u001b[32m1\u001b[39m \u001b[43mfg\u001b[49m\u001b[43m.\u001b[49m\u001b[43mfilter\u001b[49m\u001b[43m(\u001b[49m\u001b[43m(\u001b[49m\u001b[43mfg\u001b[49m\u001b[43m.\u001b[49m\u001b[43mpickup_hour\u001b[49m\u001b[43m \u001b[49m\u001b[43m>\u001b[49m\u001b[43m=\u001b[49m\u001b[43m \u001b[49m\u001b[33;43m\"\u001b[39;49m\u001b[33;43m2025-02-13\u001b[39;49m\u001b[33;43m\"\u001b[39;49m\u001b[43m)\u001b[49m\u001b[43m \u001b[49m\u001b[43m&\u001b[49m\u001b[43m \u001b[49m\u001b[43m(\u001b[49m\u001b[43mfg\u001b[49m\u001b[43m.\u001b[49m\u001b[43mpickup_hour\u001b[49m\u001b[43m \u001b[49m\u001b[43m<\u001b[49m\u001b[43m \u001b[49m\u001b[33;43m\"\u001b[39;49m\u001b[33;43m2025-02-14\u001b[39;49m\u001b[33;43m\"\u001b[39;49m\u001b[43m)\u001b[49m\u001b[43m)\u001b[49m\u001b[43m.\u001b[49m\u001b[43mread\u001b[49m\u001b[43m(\u001b[49m\u001b[43m)\u001b[49m\n",
      "\u001b[36mFile \u001b[39m\u001b[32md:\\Taxi_Project\\nyc_taxi\\taxi_venv\\Lib\\site-packages\\hsfs\\constructor\\query.py:206\u001b[39m, in \u001b[36mQuery.read\u001b[39m\u001b[34m(self, online, dataframe_type, read_options)\u001b[39m\n\u001b[32m    201\u001b[39m     \u001b[38;5;28;01mif\u001b[39;00m \u001b[38;5;28mlen\u001b[39m(\u001b[38;5;28mself\u001b[39m.joins) > \u001b[32m0\u001b[39m \u001b[38;5;129;01mor\u001b[39;00m \u001b[38;5;28;01mNone\u001b[39;00m \u001b[38;5;129;01min\u001b[39;00m [f.type \u001b[38;5;28;01mfor\u001b[39;00m f \u001b[38;5;129;01min\u001b[39;00m schema]:\n\u001b[32m    202\u001b[39m         \u001b[38;5;28;01mraise\u001b[39;00m \u001b[38;5;167;01mValueError\u001b[39;00m(\n\u001b[32m    203\u001b[39m             \u001b[33m\"\u001b[39m\u001b[33mPandas types casting only supported for feature_group.read()/query.select_all()\u001b[39m\u001b[33m\"\u001b[39m\n\u001b[32m    204\u001b[39m         )\n\u001b[32m--> \u001b[39m\u001b[32m206\u001b[39m \u001b[38;5;28;01mreturn\u001b[39;00m \u001b[43mengine\u001b[49m\u001b[43m.\u001b[49m\u001b[43mget_instance\u001b[49m\u001b[43m(\u001b[49m\u001b[43m)\u001b[49m\u001b[43m.\u001b[49m\u001b[43msql\u001b[49m\u001b[43m(\u001b[49m\n\u001b[32m    207\u001b[39m \u001b[43m    \u001b[49m\u001b[43msql_query\u001b[49m\u001b[43m,\u001b[49m\n\u001b[32m    208\u001b[39m \u001b[43m    \u001b[49m\u001b[38;5;28;43mself\u001b[39;49m\u001b[43m.\u001b[49m\u001b[43m_feature_store_name\u001b[49m\u001b[43m,\u001b[49m\n\u001b[32m    209\u001b[39m \u001b[43m    \u001b[49m\u001b[43monline_conn\u001b[49m\u001b[43m,\u001b[49m\n\u001b[32m    210\u001b[39m \u001b[43m    \u001b[49m\u001b[43mdataframe_type\u001b[49m\u001b[43m,\u001b[49m\n\u001b[32m    211\u001b[39m \u001b[43m    \u001b[49m\u001b[43mread_options\u001b[49m\u001b[43m,\u001b[49m\n\u001b[32m    212\u001b[39m \u001b[43m    \u001b[49m\u001b[43mschema\u001b[49m\u001b[43m,\u001b[49m\n\u001b[32m    213\u001b[39m \u001b[43m\u001b[49m\u001b[43m)\u001b[49m\n",
      "\u001b[36mFile \u001b[39m\u001b[32md:\\Taxi_Project\\nyc_taxi\\taxi_venv\\Lib\\site-packages\\hsfs\\engine\\python.py:146\u001b[39m, in \u001b[36mEngine.sql\u001b[39m\u001b[34m(self, sql_query, feature_store, online_conn, dataframe_type, read_options, schema)\u001b[39m\n\u001b[32m    136\u001b[39m \u001b[38;5;28;01mdef\u001b[39;00m\u001b[38;5;250m \u001b[39m\u001b[34msql\u001b[39m(\n\u001b[32m    137\u001b[39m     \u001b[38;5;28mself\u001b[39m,\n\u001b[32m    138\u001b[39m     sql_query: \u001b[38;5;28mstr\u001b[39m,\n\u001b[32m   (...)\u001b[39m\u001b[32m    143\u001b[39m     schema: Optional[List[feature.Feature]] = \u001b[38;5;28;01mNone\u001b[39;00m,\n\u001b[32m    144\u001b[39m ) -> Union[pd.DataFrame, pl.DataFrame]:\n\u001b[32m    145\u001b[39m     \u001b[38;5;28;01mif\u001b[39;00m \u001b[38;5;129;01mnot\u001b[39;00m online_conn:\n\u001b[32m--> \u001b[39m\u001b[32m146\u001b[39m         \u001b[38;5;28;01mreturn\u001b[39;00m \u001b[38;5;28;43mself\u001b[39;49m\u001b[43m.\u001b[49m\u001b[43m_sql_offline\u001b[49m\u001b[43m(\u001b[49m\n\u001b[32m    147\u001b[39m \u001b[43m            \u001b[49m\u001b[43msql_query\u001b[49m\u001b[43m,\u001b[49m\n\u001b[32m    148\u001b[39m \u001b[43m            \u001b[49m\u001b[43mdataframe_type\u001b[49m\u001b[43m,\u001b[49m\n\u001b[32m    149\u001b[39m \u001b[43m            \u001b[49m\u001b[43mschema\u001b[49m\u001b[43m,\u001b[49m\n\u001b[32m    150\u001b[39m \u001b[43m            \u001b[49m\u001b[43marrow_flight_config\u001b[49m\u001b[43m=\u001b[49m\u001b[43mread_options\u001b[49m\u001b[43m.\u001b[49m\u001b[43mget\u001b[49m\u001b[43m(\u001b[49m\u001b[33;43m\"\u001b[39;49m\u001b[33;43marrow_flight_config\u001b[39;49m\u001b[33;43m\"\u001b[39;49m\u001b[43m,\u001b[49m\u001b[43m \u001b[49m\u001b[43m{\u001b[49m\u001b[43m}\u001b[49m\u001b[43m)\u001b[49m\n\u001b[32m    151\u001b[39m \u001b[43m            \u001b[49m\u001b[38;5;28;43;01mif\u001b[39;49;00m\u001b[43m \u001b[49m\u001b[43mread_options\u001b[49m\n\u001b[32m    152\u001b[39m \u001b[43m            \u001b[49m\u001b[38;5;28;43;01melse\u001b[39;49;00m\u001b[43m \u001b[49m\u001b[43m{\u001b[49m\u001b[43m}\u001b[49m\u001b[43m,\u001b[49m\n\u001b[32m    153\u001b[39m \u001b[43m        \u001b[49m\u001b[43m)\u001b[49m\n\u001b[32m    154\u001b[39m     \u001b[38;5;28;01melse\u001b[39;00m:\n\u001b[32m    155\u001b[39m         \u001b[38;5;28;01mreturn\u001b[39;00m \u001b[38;5;28mself\u001b[39m._jdbc(\n\u001b[32m    156\u001b[39m             sql_query, online_conn, dataframe_type, read_options, schema\n\u001b[32m    157\u001b[39m         )\n",
      "\u001b[36mFile \u001b[39m\u001b[32md:\\Taxi_Project\\nyc_taxi\\taxi_venv\\Lib\\site-packages\\hsfs\\engine\\python.py:189\u001b[39m, in \u001b[36mEngine._sql_offline\u001b[39m\u001b[34m(self, sql_query, dataframe_type, schema, arrow_flight_config)\u001b[39m\n\u001b[32m    186\u001b[39m \u001b[38;5;28;01mif\u001b[39;00m \u001b[38;5;28misinstance\u001b[39m(sql_query, \u001b[38;5;28mdict\u001b[39m) \u001b[38;5;129;01mand\u001b[39;00m \u001b[33m\"\u001b[39m\u001b[33mquery_string\u001b[39m\u001b[33m\"\u001b[39m \u001b[38;5;129;01min\u001b[39;00m sql_query:\n\u001b[32m    187\u001b[39m     \u001b[38;5;28;01mfrom\u001b[39;00m\u001b[38;5;250m \u001b[39m\u001b[34;01mhsfs\u001b[39;00m\u001b[34;01m.\u001b[39;00m\u001b[34;01mcore\u001b[39;00m\u001b[38;5;250m \u001b[39m\u001b[38;5;28;01mimport\u001b[39;00m arrow_flight_client\n\u001b[32m--> \u001b[39m\u001b[32m189\u001b[39m     result_df = \u001b[43mutil\u001b[49m\u001b[43m.\u001b[49m\u001b[43mrun_with_loading_animation\u001b[49m\u001b[43m(\u001b[49m\n\u001b[32m    190\u001b[39m \u001b[43m        \u001b[49m\u001b[33;43m\"\u001b[39;49m\u001b[33;43mReading data from Hopsworks, using Hopsworks Feature Query Service\u001b[39;49m\u001b[33;43m\"\u001b[39;49m\u001b[43m,\u001b[49m\n\u001b[32m    191\u001b[39m \u001b[43m        \u001b[49m\u001b[43marrow_flight_client\u001b[49m\u001b[43m.\u001b[49m\u001b[43mget_instance\u001b[49m\u001b[43m(\u001b[49m\u001b[43m)\u001b[49m\u001b[43m.\u001b[49m\u001b[43mread_query\u001b[49m\u001b[43m,\u001b[49m\n\u001b[32m    192\u001b[39m \u001b[43m        \u001b[49m\u001b[43msql_query\u001b[49m\u001b[43m,\u001b[49m\n\u001b[32m    193\u001b[39m \u001b[43m        \u001b[49m\u001b[43marrow_flight_config\u001b[49m\u001b[43m \u001b[49m\u001b[38;5;129;43;01mor\u001b[39;49;00m\u001b[43m \u001b[49m\u001b[43m{\u001b[49m\u001b[43m}\u001b[49m\u001b[43m,\u001b[49m\n\u001b[32m    194\u001b[39m \u001b[43m        \u001b[49m\u001b[43mdataframe_type\u001b[49m\u001b[43m,\u001b[49m\n\u001b[32m    195\u001b[39m \u001b[43m    \u001b[49m\u001b[43m)\u001b[49m\n\u001b[32m    196\u001b[39m \u001b[38;5;28;01melse\u001b[39;00m:\n\u001b[32m    197\u001b[39m     \u001b[38;5;28;01mraise\u001b[39;00m \u001b[38;5;167;01mValueError\u001b[39;00m(\n\u001b[32m    198\u001b[39m         \u001b[33m\"\u001b[39m\u001b[33mReading data with Hive is not supported when using hopsworks client version >= 4.0\u001b[39m\u001b[33m\"\u001b[39m\n\u001b[32m    199\u001b[39m     )\n",
      "\u001b[36mFile \u001b[39m\u001b[32md:\\Taxi_Project\\nyc_taxi\\taxi_venv\\Lib\\site-packages\\hopsworks_common\\util.py:303\u001b[39m, in \u001b[36mrun_with_loading_animation\u001b[39m\u001b[34m(message, func, *args, **kwargs)\u001b[39m\n\u001b[32m    300\u001b[39m end = \u001b[38;5;28;01mNone\u001b[39;00m\n\u001b[32m    302\u001b[39m \u001b[38;5;28;01mtry\u001b[39;00m:\n\u001b[32m--> \u001b[39m\u001b[32m303\u001b[39m     result = \u001b[43mfunc\u001b[49m\u001b[43m(\u001b[49m\u001b[43m*\u001b[49m\u001b[43margs\u001b[49m\u001b[43m,\u001b[49m\u001b[43m \u001b[49m\u001b[43m*\u001b[49m\u001b[43m*\u001b[49m\u001b[43mkwargs\u001b[49m\u001b[43m)\u001b[49m\n\u001b[32m    304\u001b[39m     end = time.time()\n\u001b[32m    305\u001b[39m     \u001b[38;5;28;01mreturn\u001b[39;00m result\n",
      "\u001b[36mFile \u001b[39m\u001b[32md:\\Taxi_Project\\nyc_taxi\\taxi_venv\\Lib\\site-packages\\hsfs\\core\\arrow_flight_client.py:412\u001b[39m, in \u001b[36mArrowFlightClient._handle_afs_exception.<locals>.decorator.<locals>.afs_error_handler_wrapper\u001b[39m\u001b[34m(instance, *args, **kw)\u001b[39m\n\u001b[32m    410\u001b[39m     \u001b[38;5;28;01mraise\u001b[39;00m FeatureStoreException(\u001b[38;5;28mstr\u001b[39m(e).split(\u001b[33m\"\u001b[39m\u001b[33mDetails:\u001b[39m\u001b[33m\"\u001b[39m)[\u001b[32m0\u001b[39m]) \u001b[38;5;28;01mfrom\u001b[39;00m\u001b[38;5;250m \u001b[39m\u001b[34;01me\u001b[39;00m\n\u001b[32m    411\u001b[39m \u001b[38;5;28;01melse\u001b[39;00m:\n\u001b[32m--> \u001b[39m\u001b[32m412\u001b[39m     \u001b[38;5;28;01mraise\u001b[39;00m FeatureStoreException(user_message) \u001b[38;5;28;01mfrom\u001b[39;00m\u001b[38;5;250m \u001b[39m\u001b[34;01me\u001b[39;00m\n",
      "\u001b[31mFeatureStoreException\u001b[39m: Could not read data using Hopsworks Query Service."
     ]
    }
   ],
   "source": [
    "fg.filter((fg.pickup_hour >= \"2025-02-13\") & (fg.pickup_hour < \"2025-02-14\")).read()"
   ]
  },
  {
   "cell_type": "code",
   "execution_count": null,
   "id": "bb732f4b-65ee-4956-87b5-c9a9c2f367b3",
   "metadata": {},
   "outputs": [
    {
     "data": {
      "text/html": [
       "<div>\n",
       "<style scoped>\n",
       "    .dataframe tbody tr th:only-of-type {\n",
       "        vertical-align: middle;\n",
       "    }\n",
       "\n",
       "    .dataframe tbody tr th {\n",
       "        vertical-align: top;\n",
       "    }\n",
       "\n",
       "    .dataframe thead th {\n",
       "        text-align: right;\n",
       "    }\n",
       "</style>\n",
       "<table border=\"1\" class=\"dataframe\">\n",
       "  <thead>\n",
       "    <tr style=\"text-align: right;\">\n",
       "      <th></th>\n",
       "      <th>pickup_location_id</th>\n",
       "      <th>predicted_demand</th>\n",
       "      <th>pickup_hour</th>\n",
       "    </tr>\n",
       "  </thead>\n",
       "  <tbody>\n",
       "    <tr>\n",
       "      <th>0</th>\n",
       "      <td>176</td>\n",
       "      <td>0.0</td>\n",
       "      <td>2025-03-05 19:00:00+00:00</td>\n",
       "    </tr>\n",
       "    <tr>\n",
       "      <th>1</th>\n",
       "      <td>27</td>\n",
       "      <td>0.0</td>\n",
       "      <td>2025-03-05 19:00:00+00:00</td>\n",
       "    </tr>\n",
       "    <tr>\n",
       "      <th>2</th>\n",
       "      <td>152</td>\n",
       "      <td>3.0</td>\n",
       "      <td>2025-03-05 19:00:00+00:00</td>\n",
       "    </tr>\n",
       "    <tr>\n",
       "      <th>3</th>\n",
       "      <td>43</td>\n",
       "      <td>61.0</td>\n",
       "      <td>2025-03-05 19:00:00+00:00</td>\n",
       "    </tr>\n",
       "    <tr>\n",
       "      <th>4</th>\n",
       "      <td>262</td>\n",
       "      <td>16.0</td>\n",
       "      <td>2025-03-05 19:00:00+00:00</td>\n",
       "    </tr>\n",
       "    <tr>\n",
       "      <th>...</th>\n",
       "      <td>...</td>\n",
       "      <td>...</td>\n",
       "      <td>...</td>\n",
       "    </tr>\n",
       "    <tr>\n",
       "      <th>247</th>\n",
       "      <td>138</td>\n",
       "      <td>37.0</td>\n",
       "      <td>2025-03-05 19:00:00+00:00</td>\n",
       "    </tr>\n",
       "    <tr>\n",
       "      <th>248</th>\n",
       "      <td>200</td>\n",
       "      <td>0.0</td>\n",
       "      <td>2025-03-05 19:00:00+00:00</td>\n",
       "    </tr>\n",
       "    <tr>\n",
       "      <th>249</th>\n",
       "      <td>80</td>\n",
       "      <td>0.0</td>\n",
       "      <td>2025-03-05 19:00:00+00:00</td>\n",
       "    </tr>\n",
       "    <tr>\n",
       "      <th>250</th>\n",
       "      <td>78</td>\n",
       "      <td>0.0</td>\n",
       "      <td>2025-03-05 19:00:00+00:00</td>\n",
       "    </tr>\n",
       "    <tr>\n",
       "      <th>251</th>\n",
       "      <td>52</td>\n",
       "      <td>1.0</td>\n",
       "      <td>2025-03-05 19:00:00+00:00</td>\n",
       "    </tr>\n",
       "  </tbody>\n",
       "</table>\n",
       "<p>252 rows × 3 columns</p>\n",
       "</div>"
      ],
      "text/plain": [
       "     pickup_location_id  predicted_demand               pickup_hour\n",
       "0                   176               0.0 2025-03-05 19:00:00+00:00\n",
       "1                    27               0.0 2025-03-05 19:00:00+00:00\n",
       "2                   152               3.0 2025-03-05 19:00:00+00:00\n",
       "3                    43              61.0 2025-03-05 19:00:00+00:00\n",
       "4                   262              16.0 2025-03-05 19:00:00+00:00\n",
       "..                  ...               ...                       ...\n",
       "247                 138              37.0 2025-03-05 19:00:00+00:00\n",
       "248                 200               0.0 2025-03-05 19:00:00+00:00\n",
       "249                  80               0.0 2025-03-05 19:00:00+00:00\n",
       "250                  78               0.0 2025-03-05 19:00:00+00:00\n",
       "251                  52               1.0 2025-03-05 19:00:00+00:00\n",
       "\n",
       "[252 rows x 3 columns]"
      ]
     },
     "execution_count": 18,
     "metadata": {},
     "output_type": "execute_result"
    }
   ],
   "source": [
    "results"
   ]
  },
  {
   "cell_type": "code",
   "execution_count": null,
   "id": "3015ad82-b0b7-42e0-b6e3-6e69550da93a",
   "metadata": {},
   "outputs": [],
   "source": [
    "def fetch_next_hour_predictions():\n",
    "    # Get current UTC time and round up to next hour\n",
    "    now = datetime.now(timezone.utc)\n",
    "    next_hour = (now + timedelta(hours=1)).replace(minute=0, second=0, microsecond=0)\n",
    "\n",
    "    fs = get_feature_store()\n",
    "    fg = fs.get_feature_group(name=config.FEATURE_GROUP_MODEL_PREDICTION, version=1)\n",
    "\n",
    "    # Then filter for next hour in the DataFrame\n",
    "    df_hour = df[df[\"pickup_hour\"] == next_hour]\n",
    "\n",
    "    print(f\"Current UTC time: {now}\")\n",
    "    print(f\"Next hour: {next_hour}\")\n",
    "    print(f\"Found {len(df_hour)} records\")\n",
    "    return df_hour"
   ]
  },
  {
   "cell_type": "code",
   "execution_count": null,
   "id": "1a42dc2b-f1b3-40a2-8610-1bed9c822355",
   "metadata": {},
   "outputs": [
    {
     "name": "stdout",
     "output_type": "stream",
     "text": [
      "2025-03-05 13:57:11,459 INFO: Closing external client and cleaning up certificates.\n",
      "Connection closed.\n",
      "2025-03-05 13:57:11,467 INFO: Initializing external client\n",
      "2025-03-05 13:57:11,468 INFO: Base URL: https://c.app.hopsworks.ai:443\n",
      "2025-03-05 13:57:12,175 INFO: Python Engine initialized.\n",
      "\n",
      "Logged in to project, explore it here https://c.app.hopsworks.ai:443/p/1215683\n",
      "Current UTC time: 2025-03-05 18:57:11.458646+00:00\n",
      "Next hour: 2025-03-05 19:00:00+00:00\n",
      "Found 252 records\n"
     ]
    }
   ],
   "source": [
    "predictions = fetch_next_hour_predictions()"
   ]
  },
  {
   "cell_type": "code",
   "execution_count": null,
   "id": "6495da67-1068-41e0-9092-458c11626900",
   "metadata": {},
   "outputs": [
    {
     "name": "stdout",
     "output_type": "stream",
     "text": [
      "2025-03-05 13:57:16,507 INFO: Closing external client and cleaning up certificates.\n",
      "Connection closed.\n",
      "2025-03-05 13:57:16,515 INFO: Initializing external client\n",
      "2025-03-05 13:57:16,516 INFO: Base URL: https://c.app.hopsworks.ai:443\n",
      "2025-03-05 13:57:17,340 INFO: Python Engine initialized.\n",
      "\n",
      "Logged in to project, explore it here https://c.app.hopsworks.ai:443/p/1215683\n"
     ]
    }
   ],
   "source": [
    "fs = get_feature_store()\n",
    "fg = fs.get_feature_group(name=config.FEATURE_GROUP_MODEL_PREDICTION, version=1)\n",
    "\n"
   ]
  },
  {
   "cell_type": "code",
   "execution_count": null,
   "id": "9761c899-38c7-4560-9226-d41ce20811df",
   "metadata": {},
   "outputs": [
    {
     "name": "stdout",
     "output_type": "stream",
     "text": [
      "Error: Reading data from Hopsworks, using Hopsworks Feature Query Service           \n"
     ]
    },
    {
     "ename": "KeyboardInterrupt",
     "evalue": "",
     "output_type": "error",
     "traceback": [
      "\u001b[31m---------------------------------------------------------------------------\u001b[39m",
      "\u001b[31mFlightUnavailableError\u001b[39m                    Traceback (most recent call last)",
      "\u001b[36mFile \u001b[39m\u001b[32md:\\Taxi_Project\\nyc_taxi\\taxi_venv\\Lib\\site-packages\\retrying.py:251\u001b[39m, in \u001b[36mRetrying.call\u001b[39m\u001b[34m(self, fn, *args, **kwargs)\u001b[39m\n\u001b[32m    250\u001b[39m \u001b[38;5;28;01mtry\u001b[39;00m:\n\u001b[32m--> \u001b[39m\u001b[32m251\u001b[39m     attempt = Attempt(\u001b[43mfn\u001b[49m\u001b[43m(\u001b[49m\u001b[43m*\u001b[49m\u001b[43margs\u001b[49m\u001b[43m,\u001b[49m\u001b[43m \u001b[49m\u001b[43m*\u001b[49m\u001b[43m*\u001b[49m\u001b[43mkwargs\u001b[49m\u001b[43m)\u001b[49m, attempt_number, \u001b[38;5;28;01mFalse\u001b[39;00m)\n\u001b[32m    252\u001b[39m \u001b[38;5;28;01mexcept\u001b[39;00m:\n",
      "\u001b[36mFile \u001b[39m\u001b[32md:\\Taxi_Project\\nyc_taxi\\taxi_venv\\Lib\\site-packages\\hsfs\\core\\arrow_flight_client.py:445\u001b[39m, in \u001b[36mArrowFlightClient._get_dataset\u001b[39m\u001b[34m(self, descriptor, timeout, dataframe_type)\u001b[39m\n\u001b[32m    442\u001b[39m options = pyarrow.flight.FlightCallOptions(\n\u001b[32m    443\u001b[39m     timeout=timeout, headers=\u001b[38;5;28mself\u001b[39m._certificates_headers()\n\u001b[32m    444\u001b[39m )\n\u001b[32m--> \u001b[39m\u001b[32m445\u001b[39m reader = \u001b[38;5;28;43mself\u001b[39;49m\u001b[43m.\u001b[49m\u001b[43m_connection\u001b[49m\u001b[43m.\u001b[49m\u001b[43mdo_get\u001b[49m\u001b[43m(\u001b[49m\u001b[43minfo\u001b[49m\u001b[43m.\u001b[49m\u001b[43mendpoints\u001b[49m\u001b[43m[\u001b[49m\u001b[32;43m0\u001b[39;49m\u001b[43m]\u001b[49m\u001b[43m.\u001b[49m\u001b[43mticket\u001b[49m\u001b[43m,\u001b[49m\u001b[43m \u001b[49m\u001b[43moptions\u001b[49m\u001b[43m)\u001b[49m\n\u001b[32m    446\u001b[39m _logger.debug(\u001b[33m\"\u001b[39m\u001b[33mDataset fetched. Converting to dataframe \u001b[39m\u001b[38;5;132;01m%s\u001b[39;00m\u001b[33m.\u001b[39m\u001b[33m\"\u001b[39m, dataframe_type)\n",
      "\u001b[36mFile \u001b[39m\u001b[32md:\\Taxi_Project\\nyc_taxi\\taxi_venv\\Lib\\site-packages\\pyarrow\\_flight.pyx:1708\u001b[39m, in \u001b[36mpyarrow._flight.FlightClient.do_get\u001b[39m\u001b[34m()\u001b[39m\n",
      "\u001b[36mFile \u001b[39m\u001b[32md:\\Taxi_Project\\nyc_taxi\\taxi_venv\\Lib\\site-packages\\pyarrow\\_flight.pyx:68\u001b[39m, in \u001b[36mpyarrow._flight.check_flight_status\u001b[39m\u001b[34m()\u001b[39m\n",
      "\u001b[31mFlightUnavailableError\u001b[39m: Flight returned unavailable error, with message: End of TCP stream. gRPC client debug context: UNKNOWN:Error received from peer ipv4:51.79.26.27:5005 {created_time:\"2025-03-05T19:00:04.5470452+00:00\", grpc_status:14, grpc_message:\"End of TCP stream\"}. Client context: IOError: Server never sent a data message. Detail: Internal",
      "\nDuring handling of the above exception, another exception occurred:\n",
      "\u001b[31mKeyboardInterrupt\u001b[39m                         Traceback (most recent call last)",
      "\u001b[36mCell\u001b[39m\u001b[36m \u001b[39m\u001b[32mIn[22]\u001b[39m\u001b[32m, line 1\u001b[39m\n\u001b[32m----> \u001b[39m\u001b[32m1\u001b[39m df = \u001b[43mfg\u001b[49m\u001b[43m.\u001b[49m\u001b[43mread\u001b[49m\u001b[43m(\u001b[49m\u001b[43m)\u001b[49m\n",
      "\u001b[36mFile \u001b[39m\u001b[32md:\\Taxi_Project\\nyc_taxi\\taxi_venv\\Lib\\site-packages\\hsfs\\feature_group.py:2513\u001b[39m, in \u001b[36mFeatureGroup.read\u001b[39m\u001b[34m(self, wallclock_time, online, dataframe_type, read_options)\u001b[39m\n\u001b[32m   2503\u001b[39m     \u001b[38;5;28;01mreturn\u001b[39;00m (\n\u001b[32m   2504\u001b[39m         \u001b[38;5;28mself\u001b[39m.select_all()\n\u001b[32m   2505\u001b[39m         .as_of(wallclock_time)\n\u001b[32m   (...)\u001b[39m\u001b[32m   2510\u001b[39m         )\n\u001b[32m   2511\u001b[39m     )\n\u001b[32m   2512\u001b[39m \u001b[38;5;28;01melse\u001b[39;00m:\n\u001b[32m-> \u001b[39m\u001b[32m2513\u001b[39m     \u001b[38;5;28;01mreturn\u001b[39;00m \u001b[38;5;28;43mself\u001b[39;49m\u001b[43m.\u001b[49m\u001b[43mselect_all\u001b[49m\u001b[43m(\u001b[49m\u001b[43m)\u001b[49m\u001b[43m.\u001b[49m\u001b[43mread\u001b[49m\u001b[43m(\u001b[49m\n\u001b[32m   2514\u001b[39m \u001b[43m        \u001b[49m\u001b[43monline\u001b[49m\u001b[43m,\u001b[49m\n\u001b[32m   2515\u001b[39m \u001b[43m        \u001b[49m\u001b[43mdataframe_type\u001b[49m\u001b[43m,\u001b[49m\n\u001b[32m   2516\u001b[39m \u001b[43m        \u001b[49m\u001b[43mread_options\u001b[49m\u001b[43m \u001b[49m\u001b[38;5;129;43;01mor\u001b[39;49;00m\u001b[43m \u001b[49m\u001b[43m{\u001b[49m\u001b[43m}\u001b[49m\u001b[43m,\u001b[49m\n\u001b[32m   2517\u001b[39m \u001b[43m    \u001b[49m\u001b[43m)\u001b[49m\n",
      "\u001b[36mFile \u001b[39m\u001b[32md:\\Taxi_Project\\nyc_taxi\\taxi_venv\\Lib\\site-packages\\hsfs\\constructor\\query.py:206\u001b[39m, in \u001b[36mQuery.read\u001b[39m\u001b[34m(self, online, dataframe_type, read_options)\u001b[39m\n\u001b[32m    201\u001b[39m     \u001b[38;5;28;01mif\u001b[39;00m \u001b[38;5;28mlen\u001b[39m(\u001b[38;5;28mself\u001b[39m.joins) > \u001b[32m0\u001b[39m \u001b[38;5;129;01mor\u001b[39;00m \u001b[38;5;28;01mNone\u001b[39;00m \u001b[38;5;129;01min\u001b[39;00m [f.type \u001b[38;5;28;01mfor\u001b[39;00m f \u001b[38;5;129;01min\u001b[39;00m schema]:\n\u001b[32m    202\u001b[39m         \u001b[38;5;28;01mraise\u001b[39;00m \u001b[38;5;167;01mValueError\u001b[39;00m(\n\u001b[32m    203\u001b[39m             \u001b[33m\"\u001b[39m\u001b[33mPandas types casting only supported for feature_group.read()/query.select_all()\u001b[39m\u001b[33m\"\u001b[39m\n\u001b[32m    204\u001b[39m         )\n\u001b[32m--> \u001b[39m\u001b[32m206\u001b[39m \u001b[38;5;28;01mreturn\u001b[39;00m \u001b[43mengine\u001b[49m\u001b[43m.\u001b[49m\u001b[43mget_instance\u001b[49m\u001b[43m(\u001b[49m\u001b[43m)\u001b[49m\u001b[43m.\u001b[49m\u001b[43msql\u001b[49m\u001b[43m(\u001b[49m\n\u001b[32m    207\u001b[39m \u001b[43m    \u001b[49m\u001b[43msql_query\u001b[49m\u001b[43m,\u001b[49m\n\u001b[32m    208\u001b[39m \u001b[43m    \u001b[49m\u001b[38;5;28;43mself\u001b[39;49m\u001b[43m.\u001b[49m\u001b[43m_feature_store_name\u001b[49m\u001b[43m,\u001b[49m\n\u001b[32m    209\u001b[39m \u001b[43m    \u001b[49m\u001b[43monline_conn\u001b[49m\u001b[43m,\u001b[49m\n\u001b[32m    210\u001b[39m \u001b[43m    \u001b[49m\u001b[43mdataframe_type\u001b[49m\u001b[43m,\u001b[49m\n\u001b[32m    211\u001b[39m \u001b[43m    \u001b[49m\u001b[43mread_options\u001b[49m\u001b[43m,\u001b[49m\n\u001b[32m    212\u001b[39m \u001b[43m    \u001b[49m\u001b[43mschema\u001b[49m\u001b[43m,\u001b[49m\n\u001b[32m    213\u001b[39m \u001b[43m\u001b[49m\u001b[43m)\u001b[49m\n",
      "\u001b[36mFile \u001b[39m\u001b[32md:\\Taxi_Project\\nyc_taxi\\taxi_venv\\Lib\\site-packages\\hsfs\\engine\\python.py:146\u001b[39m, in \u001b[36mEngine.sql\u001b[39m\u001b[34m(self, sql_query, feature_store, online_conn, dataframe_type, read_options, schema)\u001b[39m\n\u001b[32m    136\u001b[39m \u001b[38;5;28;01mdef\u001b[39;00m\u001b[38;5;250m \u001b[39m\u001b[34msql\u001b[39m(\n\u001b[32m    137\u001b[39m     \u001b[38;5;28mself\u001b[39m,\n\u001b[32m    138\u001b[39m     sql_query: \u001b[38;5;28mstr\u001b[39m,\n\u001b[32m   (...)\u001b[39m\u001b[32m    143\u001b[39m     schema: Optional[List[feature.Feature]] = \u001b[38;5;28;01mNone\u001b[39;00m,\n\u001b[32m    144\u001b[39m ) -> Union[pd.DataFrame, pl.DataFrame]:\n\u001b[32m    145\u001b[39m     \u001b[38;5;28;01mif\u001b[39;00m \u001b[38;5;129;01mnot\u001b[39;00m online_conn:\n\u001b[32m--> \u001b[39m\u001b[32m146\u001b[39m         \u001b[38;5;28;01mreturn\u001b[39;00m \u001b[38;5;28;43mself\u001b[39;49m\u001b[43m.\u001b[49m\u001b[43m_sql_offline\u001b[49m\u001b[43m(\u001b[49m\n\u001b[32m    147\u001b[39m \u001b[43m            \u001b[49m\u001b[43msql_query\u001b[49m\u001b[43m,\u001b[49m\n\u001b[32m    148\u001b[39m \u001b[43m            \u001b[49m\u001b[43mdataframe_type\u001b[49m\u001b[43m,\u001b[49m\n\u001b[32m    149\u001b[39m \u001b[43m            \u001b[49m\u001b[43mschema\u001b[49m\u001b[43m,\u001b[49m\n\u001b[32m    150\u001b[39m \u001b[43m            \u001b[49m\u001b[43marrow_flight_config\u001b[49m\u001b[43m=\u001b[49m\u001b[43mread_options\u001b[49m\u001b[43m.\u001b[49m\u001b[43mget\u001b[49m\u001b[43m(\u001b[49m\u001b[33;43m\"\u001b[39;49m\u001b[33;43marrow_flight_config\u001b[39;49m\u001b[33;43m\"\u001b[39;49m\u001b[43m,\u001b[49m\u001b[43m \u001b[49m\u001b[43m{\u001b[49m\u001b[43m}\u001b[49m\u001b[43m)\u001b[49m\n\u001b[32m    151\u001b[39m \u001b[43m            \u001b[49m\u001b[38;5;28;43;01mif\u001b[39;49;00m\u001b[43m \u001b[49m\u001b[43mread_options\u001b[49m\n\u001b[32m    152\u001b[39m \u001b[43m            \u001b[49m\u001b[38;5;28;43;01melse\u001b[39;49;00m\u001b[43m \u001b[49m\u001b[43m{\u001b[49m\u001b[43m}\u001b[49m\u001b[43m,\u001b[49m\n\u001b[32m    153\u001b[39m \u001b[43m        \u001b[49m\u001b[43m)\u001b[49m\n\u001b[32m    154\u001b[39m     \u001b[38;5;28;01melse\u001b[39;00m:\n\u001b[32m    155\u001b[39m         \u001b[38;5;28;01mreturn\u001b[39;00m \u001b[38;5;28mself\u001b[39m._jdbc(\n\u001b[32m    156\u001b[39m             sql_query, online_conn, dataframe_type, read_options, schema\n\u001b[32m    157\u001b[39m         )\n",
      "\u001b[36mFile \u001b[39m\u001b[32md:\\Taxi_Project\\nyc_taxi\\taxi_venv\\Lib\\site-packages\\hsfs\\engine\\python.py:189\u001b[39m, in \u001b[36mEngine._sql_offline\u001b[39m\u001b[34m(self, sql_query, dataframe_type, schema, arrow_flight_config)\u001b[39m\n\u001b[32m    186\u001b[39m \u001b[38;5;28;01mif\u001b[39;00m \u001b[38;5;28misinstance\u001b[39m(sql_query, \u001b[38;5;28mdict\u001b[39m) \u001b[38;5;129;01mand\u001b[39;00m \u001b[33m\"\u001b[39m\u001b[33mquery_string\u001b[39m\u001b[33m\"\u001b[39m \u001b[38;5;129;01min\u001b[39;00m sql_query:\n\u001b[32m    187\u001b[39m     \u001b[38;5;28;01mfrom\u001b[39;00m\u001b[38;5;250m \u001b[39m\u001b[34;01mhsfs\u001b[39;00m\u001b[34;01m.\u001b[39;00m\u001b[34;01mcore\u001b[39;00m\u001b[38;5;250m \u001b[39m\u001b[38;5;28;01mimport\u001b[39;00m arrow_flight_client\n\u001b[32m--> \u001b[39m\u001b[32m189\u001b[39m     result_df = \u001b[43mutil\u001b[49m\u001b[43m.\u001b[49m\u001b[43mrun_with_loading_animation\u001b[49m\u001b[43m(\u001b[49m\n\u001b[32m    190\u001b[39m \u001b[43m        \u001b[49m\u001b[33;43m\"\u001b[39;49m\u001b[33;43mReading data from Hopsworks, using Hopsworks Feature Query Service\u001b[39;49m\u001b[33;43m\"\u001b[39;49m\u001b[43m,\u001b[49m\n\u001b[32m    191\u001b[39m \u001b[43m        \u001b[49m\u001b[43marrow_flight_client\u001b[49m\u001b[43m.\u001b[49m\u001b[43mget_instance\u001b[49m\u001b[43m(\u001b[49m\u001b[43m)\u001b[49m\u001b[43m.\u001b[49m\u001b[43mread_query\u001b[49m\u001b[43m,\u001b[49m\n\u001b[32m    192\u001b[39m \u001b[43m        \u001b[49m\u001b[43msql_query\u001b[49m\u001b[43m,\u001b[49m\n\u001b[32m    193\u001b[39m \u001b[43m        \u001b[49m\u001b[43marrow_flight_config\u001b[49m\u001b[43m \u001b[49m\u001b[38;5;129;43;01mor\u001b[39;49;00m\u001b[43m \u001b[49m\u001b[43m{\u001b[49m\u001b[43m}\u001b[49m\u001b[43m,\u001b[49m\n\u001b[32m    194\u001b[39m \u001b[43m        \u001b[49m\u001b[43mdataframe_type\u001b[49m\u001b[43m,\u001b[49m\n\u001b[32m    195\u001b[39m \u001b[43m    \u001b[49m\u001b[43m)\u001b[49m\n\u001b[32m    196\u001b[39m \u001b[38;5;28;01melse\u001b[39;00m:\n\u001b[32m    197\u001b[39m     \u001b[38;5;28;01mraise\u001b[39;00m \u001b[38;5;167;01mValueError\u001b[39;00m(\n\u001b[32m    198\u001b[39m         \u001b[33m\"\u001b[39m\u001b[33mReading data with Hive is not supported when using hopsworks client version >= 4.0\u001b[39m\u001b[33m\"\u001b[39m\n\u001b[32m    199\u001b[39m     )\n",
      "\u001b[36mFile \u001b[39m\u001b[32md:\\Taxi_Project\\nyc_taxi\\taxi_venv\\Lib\\site-packages\\hopsworks_common\\util.py:303\u001b[39m, in \u001b[36mrun_with_loading_animation\u001b[39m\u001b[34m(message, func, *args, **kwargs)\u001b[39m\n\u001b[32m    300\u001b[39m end = \u001b[38;5;28;01mNone\u001b[39;00m\n\u001b[32m    302\u001b[39m \u001b[38;5;28;01mtry\u001b[39;00m:\n\u001b[32m--> \u001b[39m\u001b[32m303\u001b[39m     result = \u001b[43mfunc\u001b[49m\u001b[43m(\u001b[49m\u001b[43m*\u001b[49m\u001b[43margs\u001b[49m\u001b[43m,\u001b[49m\u001b[43m \u001b[49m\u001b[43m*\u001b[49m\u001b[43m*\u001b[49m\u001b[43mkwargs\u001b[49m\u001b[43m)\u001b[49m\n\u001b[32m    304\u001b[39m     end = time.time()\n\u001b[32m    305\u001b[39m     \u001b[38;5;28;01mreturn\u001b[39;00m result\n",
      "\u001b[36mFile \u001b[39m\u001b[32md:\\Taxi_Project\\nyc_taxi\\taxi_venv\\Lib\\site-packages\\hsfs\\core\\arrow_flight_client.py:394\u001b[39m, in \u001b[36mArrowFlightClient._handle_afs_exception.<locals>.decorator.<locals>.afs_error_handler_wrapper\u001b[39m\u001b[34m(instance, *args, **kw)\u001b[39m\n\u001b[32m    391\u001b[39m \u001b[38;5;129m@wraps\u001b[39m(func)\n\u001b[32m    392\u001b[39m \u001b[38;5;28;01mdef\u001b[39;00m\u001b[38;5;250m \u001b[39m\u001b[34mafs_error_handler_wrapper\u001b[39m(instance, *args, **kw):\n\u001b[32m    393\u001b[39m     \u001b[38;5;28;01mtry\u001b[39;00m:\n\u001b[32m--> \u001b[39m\u001b[32m394\u001b[39m         \u001b[38;5;28;01mreturn\u001b[39;00m \u001b[43mfunc\u001b[49m\u001b[43m(\u001b[49m\u001b[43minstance\u001b[49m\u001b[43m,\u001b[49m\u001b[43m \u001b[49m\u001b[43m*\u001b[49m\u001b[43margs\u001b[49m\u001b[43m,\u001b[49m\u001b[43m \u001b[49m\u001b[43m*\u001b[49m\u001b[43m*\u001b[49m\u001b[43mkw\u001b[49m\u001b[43m)\u001b[49m\n\u001b[32m    395\u001b[39m     \u001b[38;5;28;01mexcept\u001b[39;00m \u001b[38;5;167;01mException\u001b[39;00m \u001b[38;5;28;01mas\u001b[39;00m e:\n\u001b[32m    396\u001b[39m         message = \u001b[38;5;28mstr\u001b[39m(e)\n",
      "\u001b[36mFile \u001b[39m\u001b[32md:\\Taxi_Project\\nyc_taxi\\taxi_venv\\Lib\\site-packages\\hsfs\\core\\arrow_flight_client.py:459\u001b[39m, in \u001b[36mArrowFlightClient.read_query\u001b[39m\u001b[34m(self, query_object, arrow_flight_config, dataframe_type)\u001b[39m\n\u001b[32m    457\u001b[39m query_encoded = json.dumps(query_object).encode(\u001b[33m\"\u001b[39m\u001b[33mascii\u001b[39m\u001b[33m\"\u001b[39m)\n\u001b[32m    458\u001b[39m descriptor = pyarrow.flight.FlightDescriptor.for_command(query_encoded)\n\u001b[32m--> \u001b[39m\u001b[32m459\u001b[39m \u001b[38;5;28;01mreturn\u001b[39;00m \u001b[38;5;28;43mself\u001b[39;49m\u001b[43m.\u001b[49m\u001b[43m_get_dataset\u001b[49m\u001b[43m(\u001b[49m\n\u001b[32m    460\u001b[39m \u001b[43m    \u001b[49m\u001b[43mdescriptor\u001b[49m\u001b[43m,\u001b[49m\n\u001b[32m    461\u001b[39m \u001b[43m    \u001b[49m\u001b[43m(\u001b[49m\n\u001b[32m    462\u001b[39m \u001b[43m        \u001b[49m\u001b[43marrow_flight_config\u001b[49m\u001b[43m.\u001b[49m\u001b[43mget\u001b[49m\u001b[43m(\u001b[49m\u001b[33;43m\"\u001b[39;49m\u001b[33;43mtimeout\u001b[39;49m\u001b[33;43m\"\u001b[39;49m\u001b[43m,\u001b[49m\u001b[43m \u001b[49m\u001b[38;5;28;43mself\u001b[39;49m\u001b[43m.\u001b[49m\u001b[43mtimeout\u001b[49m\u001b[43m)\u001b[49m\n\u001b[32m    463\u001b[39m \u001b[43m        \u001b[49m\u001b[38;5;28;43;01mif\u001b[39;49;00m\u001b[43m \u001b[49m\u001b[43marrow_flight_config\u001b[49m\n\u001b[32m    464\u001b[39m \u001b[43m        \u001b[49m\u001b[38;5;28;43;01melse\u001b[39;49;00m\u001b[43m \u001b[49m\u001b[38;5;28;43mself\u001b[39;49m\u001b[43m.\u001b[49m\u001b[43mtimeout\u001b[49m\n\u001b[32m    465\u001b[39m \u001b[43m    \u001b[49m\u001b[43m)\u001b[49m\u001b[43m,\u001b[49m\n\u001b[32m    466\u001b[39m \u001b[43m    \u001b[49m\u001b[43mdataframe_type\u001b[49m\u001b[43m,\u001b[49m\n\u001b[32m    467\u001b[39m \u001b[43m\u001b[49m\u001b[43m)\u001b[49m\n",
      "\u001b[36mFile \u001b[39m\u001b[32md:\\Taxi_Project\\nyc_taxi\\taxi_venv\\Lib\\site-packages\\retrying.py:56\u001b[39m, in \u001b[36mretry.<locals>.wrap.<locals>.wrapped_f\u001b[39m\u001b[34m(*args, **kw)\u001b[39m\n\u001b[32m     54\u001b[39m \u001b[38;5;129m@six\u001b[39m.wraps(f)\n\u001b[32m     55\u001b[39m \u001b[38;5;28;01mdef\u001b[39;00m\u001b[38;5;250m \u001b[39m\u001b[34mwrapped_f\u001b[39m(*args, **kw):\n\u001b[32m---> \u001b[39m\u001b[32m56\u001b[39m     \u001b[38;5;28;01mreturn\u001b[39;00m \u001b[43mRetrying\u001b[49m\u001b[43m(\u001b[49m\u001b[43m*\u001b[49m\u001b[43mdargs\u001b[49m\u001b[43m,\u001b[49m\u001b[43m \u001b[49m\u001b[43m*\u001b[49m\u001b[43m*\u001b[49m\u001b[43mdkw\u001b[49m\u001b[43m)\u001b[49m\u001b[43m.\u001b[49m\u001b[43mcall\u001b[49m\u001b[43m(\u001b[49m\u001b[43mf\u001b[49m\u001b[43m,\u001b[49m\u001b[43m \u001b[49m\u001b[43m*\u001b[49m\u001b[43margs\u001b[49m\u001b[43m,\u001b[49m\u001b[43m \u001b[49m\u001b[43m*\u001b[49m\u001b[43m*\u001b[49m\u001b[43mkw\u001b[49m\u001b[43m)\u001b[49m\n",
      "\u001b[36mFile \u001b[39m\u001b[32md:\\Taxi_Project\\nyc_taxi\\taxi_venv\\Lib\\site-packages\\retrying.py:253\u001b[39m, in \u001b[36mRetrying.call\u001b[39m\u001b[34m(self, fn, *args, **kwargs)\u001b[39m\n\u001b[32m    251\u001b[39m     attempt = Attempt(fn(*args, **kwargs), attempt_number, \u001b[38;5;28;01mFalse\u001b[39;00m)\n\u001b[32m    252\u001b[39m \u001b[38;5;28;01mexcept\u001b[39;00m:\n\u001b[32m--> \u001b[39m\u001b[32m253\u001b[39m     tb = \u001b[43msys\u001b[49m\u001b[43m.\u001b[49m\u001b[43mexc_info\u001b[49m\u001b[43m(\u001b[49m\u001b[43m)\u001b[49m\n\u001b[32m    254\u001b[39m     attempt = Attempt(tb, attempt_number, \u001b[38;5;28;01mTrue\u001b[39;00m)\n\u001b[32m    256\u001b[39m \u001b[38;5;28;01mif\u001b[39;00m \u001b[38;5;129;01mnot\u001b[39;00m \u001b[38;5;28mself\u001b[39m.should_reject(attempt):\n",
      "\u001b[31mKeyboardInterrupt\u001b[39m: "
     ]
    }
   ],
   "source": [
    "df = fg.read()"
   ]
  },
  {
   "cell_type": "code",
   "execution_count": null,
   "id": "90052c02-a072-423f-95d5-086c1ca786eb",
   "metadata": {},
   "outputs": [
    {
     "data": {
      "text/plain": [
       "Timestamp('2025-02-13 23:00:00+0000', tz='Etc/UTC')"
      ]
     },
     "execution_count": 158,
     "metadata": {},
     "output_type": "execute_result"
    }
   ],
   "source": [
    "df[\"pickup_hour\"].max()"
   ]
  },
  {
   "cell_type": "code",
   "execution_count": null,
   "id": "30f5c3e8-156e-44a5-ac8a-ccb1479a6936",
   "metadata": {},
   "outputs": [
    {
     "name": "stdout",
     "output_type": "stream",
     "text": [
      "2025-02-13 23:00:00+00:00\n"
     ]
    }
   ],
   "source": [
    "now = datetime.now(timezone.utc)\n",
    "next_hour = (now + timedelta(hours=1)).replace(minute=0, second=0, microsecond=0)\n",
    "print(next_hour)"
   ]
  },
  {
   "cell_type": "code",
   "execution_count": null,
   "id": "02ebe046-ae58-489e-99e7-a4f27755a10f",
   "metadata": {},
   "outputs": [
    {
     "data": {
      "text/html": [
       "<div>\n",
       "<style scoped>\n",
       "    .dataframe tbody tr th:only-of-type {\n",
       "        vertical-align: middle;\n",
       "    }\n",
       "\n",
       "    .dataframe tbody tr th {\n",
       "        vertical-align: top;\n",
       "    }\n",
       "\n",
       "    .dataframe thead th {\n",
       "        text-align: right;\n",
       "    }\n",
       "</style>\n",
       "<table border=\"1\" class=\"dataframe\">\n",
       "  <thead>\n",
       "    <tr style=\"text-align: right;\">\n",
       "      <th></th>\n",
       "      <th>pickup_location_id</th>\n",
       "      <th>predicted_demand</th>\n",
       "      <th>pickup_hour</th>\n",
       "    </tr>\n",
       "  </thead>\n",
       "  <tbody>\n",
       "    <tr>\n",
       "      <th>34594</th>\n",
       "      <td>211</td>\n",
       "      <td>29.0</td>\n",
       "      <td>2025-02-13 23:00:00+00:00</td>\n",
       "    </tr>\n",
       "    <tr>\n",
       "      <th>34595</th>\n",
       "      <td>53</td>\n",
       "      <td>0.0</td>\n",
       "      <td>2025-02-13 23:00:00+00:00</td>\n",
       "    </tr>\n",
       "    <tr>\n",
       "      <th>34596</th>\n",
       "      <td>112</td>\n",
       "      <td>0.0</td>\n",
       "      <td>2025-02-13 23:00:00+00:00</td>\n",
       "    </tr>\n",
       "    <tr>\n",
       "      <th>34598</th>\n",
       "      <td>6</td>\n",
       "      <td>0.0</td>\n",
       "      <td>2025-02-13 23:00:00+00:00</td>\n",
       "    </tr>\n",
       "    <tr>\n",
       "      <th>34599</th>\n",
       "      <td>240</td>\n",
       "      <td>0.0</td>\n",
       "      <td>2025-02-13 23:00:00+00:00</td>\n",
       "    </tr>\n",
       "    <tr>\n",
       "      <th>...</th>\n",
       "      <td>...</td>\n",
       "      <td>...</td>\n",
       "      <td>...</td>\n",
       "    </tr>\n",
       "    <tr>\n",
       "      <th>34905</th>\n",
       "      <td>153</td>\n",
       "      <td>0.0</td>\n",
       "      <td>2025-02-13 23:00:00+00:00</td>\n",
       "    </tr>\n",
       "    <tr>\n",
       "      <th>34906</th>\n",
       "      <td>187</td>\n",
       "      <td>0.0</td>\n",
       "      <td>2025-02-13 23:00:00+00:00</td>\n",
       "    </tr>\n",
       "    <tr>\n",
       "      <th>34907</th>\n",
       "      <td>237</td>\n",
       "      <td>272.0</td>\n",
       "      <td>2025-02-13 23:00:00+00:00</td>\n",
       "    </tr>\n",
       "    <tr>\n",
       "      <th>34908</th>\n",
       "      <td>251</td>\n",
       "      <td>0.0</td>\n",
       "      <td>2025-02-13 23:00:00+00:00</td>\n",
       "    </tr>\n",
       "    <tr>\n",
       "      <th>34909</th>\n",
       "      <td>203</td>\n",
       "      <td>0.0</td>\n",
       "      <td>2025-02-13 23:00:00+00:00</td>\n",
       "    </tr>\n",
       "  </tbody>\n",
       "</table>\n",
       "<p>256 rows × 3 columns</p>\n",
       "</div>"
      ],
      "text/plain": [
       "       pickup_location_id  predicted_demand               pickup_hour\n",
       "34594                 211              29.0 2025-02-13 23:00:00+00:00\n",
       "34595                  53               0.0 2025-02-13 23:00:00+00:00\n",
       "34596                 112               0.0 2025-02-13 23:00:00+00:00\n",
       "34598                   6               0.0 2025-02-13 23:00:00+00:00\n",
       "34599                 240               0.0 2025-02-13 23:00:00+00:00\n",
       "...                   ...               ...                       ...\n",
       "34905                 153               0.0 2025-02-13 23:00:00+00:00\n",
       "34906                 187               0.0 2025-02-13 23:00:00+00:00\n",
       "34907                 237             272.0 2025-02-13 23:00:00+00:00\n",
       "34908                 251               0.0 2025-02-13 23:00:00+00:00\n",
       "34909                 203               0.0 2025-02-13 23:00:00+00:00\n",
       "\n",
       "[256 rows x 3 columns]"
      ]
     },
     "execution_count": 160,
     "metadata": {},
     "output_type": "execute_result"
    }
   ],
   "source": [
    "df[df[\"pickup_hour\"] == next_hour]"
   ]
  }
 ],
 "metadata": {
  "kernelspec": {
   "display_name": "taxi_venv",
   "language": "python",
   "name": "python3"
  },
  "language_info": {
   "codemirror_mode": {
    "name": "ipython",
    "version": 3
   },
   "file_extension": ".py",
   "mimetype": "text/x-python",
   "name": "python",
   "nbconvert_exporter": "python",
   "pygments_lexer": "ipython3",
   "version": "3.11.9"
  }
 },
 "nbformat": 4,
 "nbformat_minor": 5
}
